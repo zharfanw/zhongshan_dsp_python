{
  "nbformat": 4,
  "nbformat_minor": 0,
  "metadata": {
    "colab": {
      "provenance": [],
      "authorship_tag": "ABX9TyO8XVmOuaW/SosRnvQkWkuX",
      "include_colab_link": true
    },
    "kernelspec": {
      "name": "python3",
      "display_name": "Python 3"
    },
    "language_info": {
      "name": "python"
    }
  },
  "cells": [
    {
      "cell_type": "markdown",
      "metadata": {
        "id": "view-in-github",
        "colab_type": "text"
      },
      "source": [
        "<a href=\"https://colab.research.google.com/github/zharfanw/zhongshan_dsp_python/blob/main/13_FilterDesign_IIR.ipynb\" target=\"_parent\"><img src=\"https://colab.research.google.com/assets/colab-badge.svg\" alt=\"Open In Colab\"/></a>"
      ]
    },
    {
      "cell_type": "markdown",
      "source": [
        "<h1>Filter Design - IIR</h1>\n"
      ],
      "metadata": {
        "id": "HL7Ziy8H8ng3"
      }
    },
    {
      "cell_type": "code",
      "source": [],
      "metadata": {
        "id": "HbKBnkVN8nPV"
      },
      "execution_count": null,
      "outputs": []
    },
    {
      "cell_type": "code",
      "execution_count": null,
      "metadata": {
        "id": "U_kvtsjj8fuK"
      },
      "outputs": [],
      "source": []
    }
  ]
}