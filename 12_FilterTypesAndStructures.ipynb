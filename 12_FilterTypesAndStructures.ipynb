{
  "nbformat": 4,
  "nbformat_minor": 0,
  "metadata": {
    "colab": {
      "provenance": [],
      "authorship_tag": "ABX9TyP9um6Lf5OGMpulod+m/hzf",
      "include_colab_link": true
    },
    "kernelspec": {
      "name": "python3",
      "display_name": "Python 3"
    },
    "language_info": {
      "name": "python"
    }
  },
  "cells": [
    {
      "cell_type": "markdown",
      "metadata": {
        "id": "view-in-github",
        "colab_type": "text"
      },
      "source": [
        "<a href=\"https://colab.research.google.com/github/zharfanw/zhongshan_dsp_python/blob/main/12_FilterTypesAndStructures.ipynb\" target=\"_parent\"><img src=\"https://colab.research.google.com/assets/colab-badge.svg\" alt=\"Open In Colab\"/></a>"
      ]
    },
    {
      "cell_type": "markdown",
      "source": [
        "**<h1>Filter Types and Structures</h1>**"
      ],
      "metadata": {
        "id": "bhpSqGs7jJwh"
      }
    },
    {
      "cell_type": "markdown",
      "source": [
        "# 1. More Filter types\n",
        "## 1.1 Comb filters\n",
        "\n",
        "imagine it have pole\n",
        "## 1.2 All Pass filters"
      ],
      "metadata": {
        "id": "2LT1RcIk9mBx"
      }
    },
    {
      "cell_type": "markdown",
      "source": [
        "# 1. More Filter types\n",
        "## Comb filters\n",
        "\n",
        "imagine it have pole\n",
        "## All Pass filters\n",
        "\n",
        "give example if we cascade series filter with allpass filter to correction the phase\n",
        "\n",
        "Final Exam : Minimum Phase Cascade with Allpass Filter\n"
      ],
      "metadata": {
        "id": "TWSQWILQjWDP"
      }
    },
    {
      "cell_type": "markdown",
      "source": [
        "##\n",
        "Breakdown H_f to H_minphase and H_allpass\n"
      ],
      "metadata": {
        "id": "FwIjiOqszU02"
      }
    },
    {
      "cell_type": "code",
      "execution_count": null,
      "metadata": {
        "id": "Sq1L5oYh79b7"
      },
      "outputs": [],
      "source": []
    },
    {
      "cell_type": "markdown",
      "source": [
        "only need change the floating point ??\n",
        "\n",
        "Practice about TF to Cascade/SOS ."
      ],
      "metadata": {
        "id": "hnxm5gxVD07T"
      }
    },
    {
      "cell_type": "markdown",
      "source": [
        "design filter in period filter(IZT ?)."
      ],
      "metadata": {
        "id": "s6WwO7TmEgkP"
      }
    },
    {
      "cell_type": "code",
      "source": [
        "/////////desi"
      ],
      "metadata": {
        "id": "Mj73dfOhEfYm"
      },
      "execution_count": null,
      "outputs": []
    }
  ]
}