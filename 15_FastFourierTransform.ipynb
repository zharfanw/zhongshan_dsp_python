{
  "nbformat": 4,
  "nbformat_minor": 0,
  "metadata": {
    "colab": {
      "provenance": [],
      "authorship_tag": "ABX9TyMm8GmvbFLmf6kGImGGpG0k",
      "include_colab_link": true
    },
    "kernelspec": {
      "name": "python3",
      "display_name": "Python 3"
    },
    "language_info": {
      "name": "python"
    }
  },
  "cells": [
    {
      "cell_type": "markdown",
      "metadata": {
        "id": "view-in-github",
        "colab_type": "text"
      },
      "source": [
        "<a href=\"https://colab.research.google.com/github/zharfanw/zhongshan_dsp_python/blob/main/15_FastFourierTransform.ipynb\" target=\"_parent\"><img src=\"https://colab.research.google.com/assets/colab-badge.svg\" alt=\"Open In Colab\"/></a>"
      ]
    },
    {
      "cell_type": "markdown",
      "source": [
        "<h1>Fast Fourier Transform</h1>"
      ],
      "metadata": {
        "id": "oIk1981zoI7A"
      }
    },
    {
      "cell_type": "markdown",
      "source": [
        "exam will solve 16 point DFT/FFT\n",
        "Decomposition\n"
      ],
      "metadata": {
        "id": "7AQL5-qf2Zzh"
      }
    },
    {
      "cell_type": "code",
      "execution_count": null,
      "metadata": {
        "id": "LtwpdpWSoD3f"
      },
      "outputs": [],
      "source": []
    }
  ]
}