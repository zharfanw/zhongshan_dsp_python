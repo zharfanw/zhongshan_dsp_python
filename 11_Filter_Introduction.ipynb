{
  "nbformat": 4,
  "nbformat_minor": 0,
  "metadata": {
    "colab": {
      "provenance": [],
      "authorship_tag": "ABX9TyMvQRP+YZZX7MHi7um3wR28",
      "include_colab_link": true
    },
    "kernelspec": {
      "name": "python3",
      "display_name": "Python 3"
    },
    "language_info": {
      "name": "python"
    }
  },
  "cells": [
    {
      "cell_type": "markdown",
      "metadata": {
        "id": "view-in-github",
        "colab_type": "text"
      },
      "source": [
        "<a href=\"https://colab.research.google.com/github/zharfanw/zhongshan_dsp_python/blob/main/11_Filter_Introduction.ipynb\" target=\"_parent\"><img src=\"https://colab.research.google.com/assets/colab-badge.svg\" alt=\"Open In Colab\"/></a>"
      ]
    },
    {
      "cell_type": "markdown",
      "source": [
        "<center><h1>Filter Introduction</h1></center>\n",
        "\n"
      ],
      "metadata": {
        "id": "BhvxGFkhhx2O"
      }
    },
    {
      "cell_type": "markdown",
      "source": [
        "# Simple Filter\n"
      ],
      "metadata": {
        "id": "HoiokK8oiheG"
      }
    },
    {
      "cell_type": "code",
      "execution_count": null,
      "metadata": {
        "id": "xE4BlmhthnDE"
      },
      "outputs": [],
      "source": []
    }
  ]
}