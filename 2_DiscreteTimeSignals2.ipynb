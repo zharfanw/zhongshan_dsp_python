{
  "nbformat": 4,
  "nbformat_minor": 0,
  "metadata": {
    "colab": {
      "provenance": [],
      "authorship_tag": "ABX9TyMFMUrWB0wutmUPJWEwWQ2z",
      "include_colab_link": true
    },
    "kernelspec": {
      "name": "python3",
      "display_name": "Python 3"
    },
    "language_info": {
      "name": "python"
    }
  },
  "cells": [
    {
      "cell_type": "markdown",
      "metadata": {
        "id": "view-in-github",
        "colab_type": "text"
      },
      "source": [
        "<a href=\"https://colab.research.google.com/github/zharfanw/zhongshan_dsp_python/blob/main/2_DiscreteTimeSignals2.ipynb\" target=\"_parent\"><img src=\"https://colab.research.google.com/assets/colab-badge.svg\" alt=\"Open In Colab\"/></a>"
      ]
    },
    {
      "cell_type": "markdown",
      "source": [
        "<h1>Discrete Time Signals 2</h1>\n",
        "\n",
        "# 1. Discrete-time Systems\n",
        "\n",
        "## Moving Average Example\n",
        "\n",
        "## Accumulator Example\n",
        "\n",
        "## Classes of Discrete-Time Systems\n",
        "\n",
        "### Linear System\n",
        "\n",
        "### Property : Shift(time) in variance\n",
        "\n",
        "#### Linear Shift Invariant\n",
        "\n",
        "### Casuality\n",
        "\n",
        "### Impulse Response\n"
      ],
      "metadata": {
        "id": "VZ6_JjqH8WDZ"
      }
    },
    {
      "cell_type": "markdown",
      "source": [
        "# 2. Convolution\n",
        "theory about convolution\n",
        "\n",
        "Matrix Interpretation\n",
        "\n"
      ],
      "metadata": {
        "id": "AX4WI0io-TSm"
      }
    },
    {
      "cell_type": "code",
      "source": [],
      "metadata": {
        "id": "qW3YLIrT-SE6"
      },
      "execution_count": null,
      "outputs": []
    },
    {
      "cell_type": "code",
      "execution_count": null,
      "metadata": {
        "id": "AhQFZndf8P6C"
      },
      "outputs": [],
      "source": []
    }
  ]
}